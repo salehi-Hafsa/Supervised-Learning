{
 "cells": [
  {
   "cell_type": "markdown",
   "metadata": {},
   "source": [
    "# Lab 2 Supervised Learning - Classification on Handwritten Digits Data Set\n",
    "\n",
    "MNIST Dataset (\"Modified National Institute of Standards and Technology\") represents the \"Hello World\" dataset for computer vision. It is an image of handwritten numbers. The goal is to build a model able to detect the numbers corresponding to each image.\n",
    "\n",
    "The original MNIST dataset contains 70 000 images, on grey scale, of 28 x 28 pixels.\n",
    "\n",
    "During this tutorial, we use a reduced sample of MNIST, in order to build and evaluate a k-NN model.\n",
    "\n",
    "The dataset we are interested in during this Lab is made of 8x8 images of handwritten digits. Each image is accompanied by a 'target' value, which gives information about the digit represented on the image.\n",
    "\n",
    "We want to build a model capable of automatically detecting the value of the handwritten digit.\n",
    "\n",
    "Rhis lab objectives are:\n",
    "\n",
    "1. Import and explore image data\n",
    "2. Divide the data into Training and Test sets\n",
    "3. Build supervised learning models from the training data\n",
    "4. Observe the effect of the choice of the K-NN parameter k on the model predictions\n",
    "5. Measure the performance of the model\n",
    "\n",
    "\n"
   ]
  },
  {
   "cell_type": "markdown",
   "metadata": {},
   "source": [
    "First, let's import the libraries we will need"
   ]
  },
  {
   "cell_type": "code",
   "execution_count": 1,
   "metadata": {},
   "outputs": [],
   "source": [
    "# Import matplotlib for data visualisation\n",
    "import matplotlib.pyplot as plt\n",
    "#Import scikit-learn metrics module for our models' evaluations\n",
    "from sklearn import metrics\n",
    "#Import scikit-learn dataset library\n",
    "from sklearn import datasets"
   ]
  },
  {
   "cell_type": "markdown",
   "metadata": {},
   "source": [
    "# 1. Data loading and exploration\n",
    "\n",
    "Let's load the dataset from the scikit-learn library.\n"
   ]
  },
  {
   "cell_type": "code",
   "execution_count": 2,
   "metadata": {},
   "outputs": [],
   "source": [
    "#Load dataset\n",
    "digits = datasets.load_digits()"
   ]
  },
  {
   "cell_type": "markdown",
   "metadata": {},
   "source": [
    "#### Exploring data\n",
    "\n",
    "After loading the dataset, we will explore it and see what it is made of.. "
   ]
  },
  {
   "cell_type": "code",
   "execution_count": 3,
   "metadata": {},
   "outputs": [
    {
     "name": "stdout",
     "output_type": "stream",
     "text": [
      "dict_keys(['data', 'target', 'frame', 'feature_names', 'target_names', 'images', 'DESCR'])\n"
     ]
    }
   ],
   "source": [
    "print(digits.keys())"
   ]
  },
  {
   "cell_type": "code",
   "execution_count": 4,
   "metadata": {},
   "outputs": [
    {
     "name": "stdout",
     "output_type": "stream",
     "text": [
      "(1797, 8, 8)\n"
     ]
    }
   ],
   "source": [
    "print(digits.images.shape)"
   ]
  },
  {
   "cell_type": "code",
   "execution_count": 5,
   "metadata": {},
   "outputs": [
    {
     "name": "stdout",
     "output_type": "stream",
     "text": [
      "(1797,)\n"
     ]
    }
   ],
   "source": [
    "print(digits.target.shape)"
   ]
  },
  {
   "cell_type": "code",
   "execution_count": 6,
   "metadata": {},
   "outputs": [
    {
     "name": "stdout",
     "output_type": "stream",
     "text": [
      "[0 1 2 ... 8 9 8]\n"
     ]
    }
   ],
   "source": [
    "print(digits.target)"
   ]
  },
  {
   "cell_type": "code",
   "execution_count": 7,
   "metadata": {},
   "outputs": [
    {
     "name": "stdout",
     "output_type": "stream",
     "text": [
      "[0 1 2 3 4 5 6 7 8 9]\n"
     ]
    }
   ],
   "source": [
    "print(digits.target_names)"
   ]
  },
  {
   "cell_type": "code",
   "execution_count": 8,
   "metadata": {},
   "outputs": [],
   "source": [
    "#print(digits.feature_names)"
   ]
  },
  {
   "cell_type": "markdown",
   "metadata": {},
   "source": [
    "there are 10 classes of data, one class for each digit from 0 to 9."
   ]
  },
  {
   "cell_type": "code",
   "execution_count": 9,
   "metadata": {},
   "outputs": [
    {
     "name": "stdout",
     "output_type": "stream",
     "text": [
      "(8, 8)\n",
      "[[ 0.  0.  8. 16.  5.  0.  0.  0.]\n",
      " [ 0.  1. 13. 11. 16.  0.  0.  0.]\n",
      " [ 0.  0. 10.  0. 13.  3.  0.  0.]\n",
      " [ 0.  0.  3.  1. 16.  1.  0.  0.]\n",
      " [ 0.  0.  0.  9. 12.  0.  0.  0.]\n",
      " [ 0.  0.  3. 15.  5.  0.  0.  0.]\n",
      " [ 0.  0. 14. 15.  8.  8.  3.  0.]\n",
      " [ 0.  0.  7. 12. 12. 12. 13.  1.]]\n"
     ]
    }
   ],
   "source": [
    "n= 22\n",
    "print (digits.images[n].shape)\n",
    "print(digits.images[n])"
   ]
  },
  {
   "cell_type": "markdown",
   "metadata": {},
   "source": [
    "Let's take a closer look at the images."
   ]
  },
  {
   "cell_type": "code",
   "execution_count": 10,
   "metadata": {},
   "outputs": [
    {
     "data": {
      "text/plain": [
       "<Figure size 432x288 with 0 Axes>"
      ]
     },
     "metadata": {},
     "output_type": "display_data"
    },
    {
     "data": {
      "image/png": "[encoded data removed]",
      "text/plain": [
       "<Figure size 288x288 with 1 Axes>"
      ]
     },
     "metadata": {
      "needs_background": "light"
     },
     "output_type": "display_data"
    }
   ],
   "source": [
    "n=22\n",
    "import matplotlib.pyplot as plt \n",
    "plt.gray() \n",
    "plt.matshow(digits.images[n]) \n",
    "plt.title('Image Label: %i' % digits.target[n])\n",
    "plt.show()\n"
   ]
  },
  {
   "cell_type": "code",
   "execution_count": 15,
   "metadata": {},
   "outputs": [
    {
     "name": "stdout",
     "output_type": "stream",
     "text": [
      "(64,)\n",
      "[ 0.  0.  8. 16.  5.  0.  0.  0.  0.  1. 13. 11. 16.  0.  0.  0.  0.  0.\n",
      " 10.  0. 13.  3.  0.  0.  0.  0.  3.  1. 16.  1.  0.  0.  0.  0.  0.  9.\n",
      " 12.  0.  0.  0.  0.  0.  3. 15.  5.  0.  0.  0.  0.  0. 14. 15.  8.  8.\n",
      "  3.  0.  0.  0.  7. 12. 12. 12. 13.  1.]\n"
     ]
    }
   ],
   "source": [
    "n= 22\n",
    "print (digits.data[n].shape)\n",
    "print(digits.data[n])"
   ]
  },
  {
   "cell_type": "code",
   "execution_count": 16,
   "metadata": {},
   "outputs": [
    {
     "name": "stdout",
     "output_type": "stream",
     "text": [
      "(1797, 64)\n"
     ]
    }
   ],
   "source": [
    "print (digits.data.shape)"
   ]
  },
  {
   "cell_type": "markdown",
   "metadata": {},
   "source": [
    "Let us observe the images with their respective labels"
   ]
  },
  {
   "cell_type": "code",
   "execution_count": 11,
   "metadata": {},
   "outputs": [
    {
     "data": {
      "image/png": "[encoded data removed]",
      "text/plain": [
       "<Figure size 432x432 with 100 Axes>"
      ]
     },
     "metadata": {},
     "output_type": "display_data"
    }
   ],
   "source": [
    "fig = plt.figure(figsize=(6, 6))  # figure size in inches\n",
    "fig.subplots_adjust(left=0, right=1, bottom=0, top=1, hspace=0.05, wspace=0.05)\n",
    "\n",
    "for i in range(100):\n",
    "    ax = fig.add_subplot(10, 10, i + 1, xticks=[], yticks=[])\n",
    "    ax.imshow(digits.images[i], cmap=plt.cm.binary, interpolation='nearest')\n",
    "    # label the image with the target value\n",
    "    ax.text(0, 7, str(digits.target[i]), color ='green')"
   ]
  },
  {
   "cell_type": "markdown",
   "metadata": {},
   "source": [
    "We want to know if our classes are balanced, so we draw a bar chart, such that the height of the bars represents the number of examples for each class"
   ]
  },
  {
   "cell_type": "code",
   "execution_count": 13,
   "metadata": {},
   "outputs": [
    {
     "data": {
      "text/plain": [
       "<BarContainer object of 10 artists>"
      ]
     },
     "execution_count": 13,
     "metadata": {},
     "output_type": "execute_result"
    },
    {
     "data": {
      "image/png": "[encoded data removed]",
      "text/plain": [
       "<Figure size 432x288 with 1 Axes>"
      ]
     },
     "metadata": {
      "needs_background": "light"
     },
     "output_type": "display_data"
    }
   ],
   "source": [
    "import collections\n",
    "w=collections.Counter(digits.target)\n",
    "plt.bar(w.keys(), w.values())"
   ]
  },
  {
   "cell_type": "markdown",
   "metadata": {},
   "source": [
    "We can clearly see that the classes are well balanced."
   ]
  },
  {
   "cell_type": "markdown",
   "metadata": {},
   "source": [
    "## 2. Divide the data into training and test sets¶\n",
    "\n",
    "It is important to divide the data into training and test sets to analyze the performance of the models.\n",
    "\n",
    "We use the train_test_split() function for this.. "
   ]
  },
  {
   "cell_type": "code",
   "execution_count": 14,
   "metadata": {},
   "outputs": [],
   "source": [
    "# Import train_test_split function\n",
    "from sklearn.model_selection import train_test_split\n",
    "\n",
    "# Split dataset into training set and test set\n",
    "X_train, X_test, y_train, y_test = train_test_split(digits.data, digits.target, test_size=0.3, random_state=5) # 70% training and 30% test"
   ]
  },
  {
   "cell_type": "markdown",
   "metadata": {},
   "source": [
    "Let's display the dimensions of the obtained sets"
   ]
  },
  {
   "cell_type": "code",
   "execution_count": 15,
   "metadata": {},
   "outputs": [
    {
     "name": "stdout",
     "output_type": "stream",
     "text": [
      "(1257, 64)\n",
      "(540, 64)\n",
      "(1257,)\n",
      "(540,)\n"
     ]
    }
   ],
   "source": [
    "print(X_train.shape)\n",
    "print(X_test.shape)\n",
    "print(y_train.shape)\n",
    "print(y_test.shape)"
   ]
  },
  {
   "cell_type": "code",
   "execution_count": 16,
   "metadata": {},
   "outputs": [
    {
     "data": {
      "text/plain": [
       "array([ 0.,  0.,  7.,  8.,  6.,  8.,  4.,  0.,  0.,  0., 12., 13., 12.,\n",
       "       12.,  5.,  0.,  0.,  0., 13.,  0.,  0.,  0.,  0.,  0.,  0.,  5.,\n",
       "       15., 12.,  9.,  2.,  0.,  0.,  0.,  3.,  8.,  7.,  8., 15.,  2.,\n",
       "        0.,  0.,  0.,  0.,  0.,  0.,  6.,  8.,  0.,  0.,  0.,  6.,  0.,\n",
       "        1., 13.,  4.,  0.,  0.,  0.,  7., 15., 15.,  5.,  0.,  0.])"
      ]
     },
     "execution_count": 16,
     "metadata": {},
     "output_type": "execute_result"
    }
   ],
   "source": [
    "X_train[10]"
   ]
  },
  {
   "cell_type": "markdown",
   "metadata": {},
   "source": [
    "### Feature normalization\n",
    "\n",
    "The intensity of the pixels being between 0 and 255, we proceed to a min-max normalization, which amounts here to divide the values by 255.\n",
    "\n",
    "This step allows us to obtain values between 0 and 1."
   ]
  },
  {
   "cell_type": "code",
   "execution_count": 17,
   "metadata": {},
   "outputs": [],
   "source": [
    "X_train, X_test = X_train / 255.0, X_test / 255.0"
   ]
  },
  {
   "cell_type": "markdown",
   "metadata": {},
   "source": [
    "\n",
    "To check that the data is in a correct format, let's display the first 64 images of the training, and the name of the class corresponding to each image.\n"
   ]
  },
  {
   "cell_type": "code",
   "execution_count": 18,
   "metadata": {},
   "outputs": [
    {
     "data": {
      "image/png": "[encoded data removed]",
      "text/plain": [
       "<Figure size 432x432 with 64 Axes>"
      ]
     },
     "metadata": {},
     "output_type": "display_data"
    }
   ],
   "source": [
    "fig = plt.figure(figsize=(6, 6))  # figure size in inches\n",
    "fig.subplots_adjust(left=0, right=1, bottom=0, top=1, hspace=0.05, wspace=0.05)\n",
    "\n",
    "for i in range(64):\n",
    "    ax = fig.add_subplot(8, 8, i + 1, xticks=[], yticks=[])\n",
    "    ax.imshow(X_train[i].reshape(8, 8), cmap=plt.cm.binary, interpolation='nearest')\n",
    "    # label the image with the target value\n",
    "    ax.text(0, 7, str(y_train[i]), color ='green')\n",
    "    "
   ]
  },
  {
   "cell_type": "markdown",
   "metadata": {},
   "source": [
    "Let's check that the Train and Test data are well balanced"
   ]
  },
  {
   "cell_type": "code",
   "execution_count": 20,
   "metadata": {},
   "outputs": [
    {
     "data": {
      "text/plain": [
       "<BarContainer object of 10 artists>"
      ]
     },
     "execution_count": 20,
     "metadata": {},
     "output_type": "execute_result"
    },
    {
     "data": {
      "image/png": "[encoded data removed]",
      "text/plain": [
       "<Figure size 432x288 with 1 Axes>"
      ]
     },
     "metadata": {
      "needs_background": "light"
     },
     "output_type": "display_data"
    }
   ],
   "source": [
    "import collections\n",
    "w=collections.Counter(y_train)\n",
    "plt.bar(w.keys(), w.values())"
   ]
  },
  {
   "cell_type": "code",
   "execution_count": 21,
   "metadata": {},
   "outputs": [
    {
     "data": {
      "text/plain": [
       "<BarContainer object of 10 artists>"
      ]
     },
     "execution_count": 21,
     "metadata": {},
     "output_type": "execute_result"
    },
    {
     "data": {
      "image/png": "[encoded data removed]",
      "text/plain": [
       "<Figure size 432x288 with 1 Axes>"
      ]
     },
     "metadata": {
      "needs_background": "light"
     },
     "output_type": "display_data"
    }
   ],
   "source": [
    "import collections\n",
    "w=collections.Counter(y_test)\n",
    "plt.bar(w.keys(), w.values())"
   ]
  },
  {
   "cell_type": "markdown",
   "metadata": {},
   "source": [
    "# 3. K-NN Classififcateur \n",
    "\n",
    "Let's build a supervised learning model from the training data. Let's use the k-NN model.\n",
    "\n",
    "To do this, we need to follow the following steps:\n",
    "\n",
    "    Instantiate a KNeighborsClassifier object\n",
    "    \n",
    "    Learn the model from the training data (.fit)\n",
    "    \n",
    "    Compute the prediction on the test data"
   ]
  },
  {
   "cell_type": "code",
   "execution_count": 22,
   "metadata": {},
   "outputs": [],
   "source": [
    "from sklearn import neighbors\n",
    "\n",
    "#Create a KNN Classifier\n",
    "# kNN model requires you to specify n_neighbors\n",
    "classifierKNN = neighbors.KNeighborsClassifier(n_neighbors = 5)\n",
    "\n",
    "#Train the model using the training sets\n",
    "classifierKNN.fit(X_train, y_train)\n",
    "\n",
    "#Predict the response for test dataset\n",
    "y_pred_test_KNN = classifierKNN.predict(X_test)"
   ]
  },
  {
   "cell_type": "markdown",
   "metadata": {},
   "source": [
    "### Observation "
   ]
  },
  {
   "cell_type": "markdown",
   "metadata": {},
   "source": [
    "Let us observe the results by examining the images."
   ]
  },
  {
   "cell_type": "code",
   "execution_count": 24,
   "metadata": {},
   "outputs": [
    {
     "data": {
      "text/plain": [
       "<Figure size 432x288 with 0 Axes>"
      ]
     },
     "metadata": {},
     "output_type": "display_data"
    },
    {
     "data": {
      "image/png": "[encoded data removed]",
      "text/plain": [
       "<Figure size 288x288 with 1 Axes>"
      ]
     },
     "metadata": {
      "needs_background": "light"
     },
     "output_type": "display_data"
    },
    {
     "name": "stdout",
     "output_type": "stream",
     "text": [
      "valeur prédite: [1]\n"
     ]
    }
   ],
   "source": [
    "n = 1760\n",
    "import matplotlib.pyplot as plt \n",
    "plt.gray() \n",
    "plt.matshow(digits.images[n]) \n",
    "plt.title('Image Label: %i' % digits.target[n])\n",
    "plt.show()\n",
    "\n",
    "print('valeur prédite: '+str(classifierKNN.predict(digits.data[n,:].reshape(1, -1))))"
   ]
  },
  {
   "cell_type": "markdown",
   "metadata": {},
   "source": [
    "Let's display the first 64 predictions of the test data.  The correctly predicted labels are displayed in green. The wrong ones are in red."
   ]
  },
  {
   "cell_type": "code",
   "execution_count": 40,
   "metadata": {},
   "outputs": [
    {
     "data": {
      "image/png": "[encoded data removed]",
      "text/plain": [
       "<Figure size 432x432 with 64 Axes>"
      ]
     },
     "metadata": {},
     "output_type": "display_data"
    }
   ],
   "source": [
    "# Plot the prediction\n",
    "fig = plt.figure(figsize=(6, 6))  # figure size in inches\n",
    "fig.subplots_adjust(left=0, right=1, bottom=0, top=1, hspace=0.05, wspace=0.05)\n",
    "# plot the digits: each image is 8x8 pixels\n",
    "for i in range(64):\n",
    "    ax = fig.add_subplot(8, 8, i + 1, xticks=[], yticks=[])\n",
    "    ax.imshow(X_test.reshape(-1, 8, 8)[i], cmap=plt.cm.binary,\n",
    "              interpolation='nearest')\n",
    "    # label the image with the target value\n",
    "    if y_pred_test_KNN[i] == y_test[i]:\n",
    "        ax.text(0, 7, str(y_pred_test_KNN[i]), color='green')\n",
    "    else:\n",
    "        ax.text(0, 7, str(y_pred_test_KNN[i]), color='red')\n",
    "        ax.text(0, 7, '             '+str(y_test[i]), color='green')"
   ]
  },
  {
   "cell_type": "markdown",
   "metadata": {},
   "source": [
    "It would be interesting to display only the errors"
   ]
  },
  {
   "cell_type": "code",
   "execution_count": 25,
   "metadata": {},
   "outputs": [
    {
     "name": "stdout",
     "output_type": "stream",
     "text": [
      "ERRORS NUMBER:  8\n"
     ]
    },
    {
     "data": {
      "image/png": "[encoded data removed]",
      "text/plain": [
       "<Figure size 432x432 with 8 Axes>"
      ]
     },
     "metadata": {},
     "output_type": "display_data"
    }
   ],
   "source": [
    "\n",
    "nbrError = 0\n",
    "for i in range(540):\n",
    "    if y_pred_test_KNN[i] != y_test[i]:\n",
    "        nbrError = nbrError +1\n",
    "print(\"ERRORS NUMBER: \",nbrError)    \n",
    "        \n",
    "# Plot the prediction\n",
    "fig = plt.figure(figsize=(6, 6))  # figure size in inches\n",
    "fig.subplots_adjust(left=0, right=1, bottom=0, top=1, hspace=0.05, wspace=0.05)\n",
    "# plot the digits: each image is 8x8 pixels\n",
    "j = 0\n",
    "for i in range(540):\n",
    "    # label the image with the target value\n",
    "    if y_pred_test_KNN[i] != y_test[i]:\n",
    "        ax = fig.add_subplot(5, 5, j + 1, xticks=[], yticks=[])\n",
    "        ax.imshow(X_test[i].reshape( 8, 8), cmap=plt.cm.binary, interpolation='nearest')\n",
    "        ax.text(0, 7, str(y_pred_test_KNN[i]), color='red')\n",
    "        ax.text(0, 7, '                      '+str(y_test[i]), color='green')\n",
    "        j = j +1\n",
    "        "
   ]
  },
  {
   "cell_type": "markdown",
   "metadata": {},
   "source": [
    "8 errors out of 540 test examples. What do you think of the model?"
   ]
  },
  {
   "cell_type": "markdown",
   "metadata": {},
   "source": [
    "## What if we change k value?"
   ]
  },
  {
   "cell_type": "markdown",
   "metadata": {},
   "source": [
    "let's build a model with k = 7"
   ]
  },
  {
   "cell_type": "code",
   "execution_count": 26,
   "metadata": {},
   "outputs": [],
   "source": [
    "#Create a KNN Classifier\n",
    "# kNN model requires you to specify n_neighbors\n",
    "classifierKNN = neighbors.KNeighborsClassifier(n_neighbors = 7)\n",
    "\n",
    "#Train the model using the training sets\n",
    "classifierKNN.fit(X_train, y_train)\n",
    "\n",
    "#Predict the response for test dataset\n",
    "y_pred_test_KNN = classifierKNN.predict(X_test)"
   ]
  },
  {
   "cell_type": "code",
   "execution_count": 27,
   "metadata": {},
   "outputs": [
    {
     "name": "stdout",
     "output_type": "stream",
     "text": [
      "ERRORS NUMBER :  8\n"
     ]
    },
    {
     "data": {
      "image/png": "[encoded data removed]",
      "text/plain": [
       "<Figure size 432x432 with 8 Axes>"
      ]
     },
     "metadata": {},
     "output_type": "display_data"
    }
   ],
   "source": [
    "\n",
    "nbrError = 0\n",
    "for i in range(540):\n",
    "    if y_pred_test_KNN[i] != y_test[i]:\n",
    "        nbrError = nbrError +1\n",
    "print(\"ERRORS NUMBER : \",nbrError)    \n",
    "        \n",
    "# Plot the prediction\n",
    "fig = plt.figure(figsize=(6, 6))  # figure size in inches\n",
    "fig.subplots_adjust(left=0, right=1, bottom=0, top=1, hspace=0.05, wspace=0.05)\n",
    "# plot the digits: each image is 8x8 pixels\n",
    "j = 0\n",
    "for i in range(540):\n",
    "    # label the image with the target value\n",
    "    if y_pred_test_KNN[i] != y_test[i]:\n",
    "        ax = fig.add_subplot(5, 5, j + 1, xticks=[], yticks=[])\n",
    "        ax.imshow(X_test[i].reshape( 8, 8), cmap=plt.cm.binary, interpolation='nearest')\n",
    "        ax.text(0, 7, str(y_pred_test_KNN[i]), color='red')\n",
    "        ax.text(0, 7, '                      '+str(y_test[i]), color='green')\n",
    "        j = j +1\n",
    "        "
   ]
  },
  {
   "cell_type": "markdown",
   "metadata": {},
   "source": [
    "The number of errors is the same at k = 5. But are the errors the same? ...."
   ]
  },
  {
   "cell_type": "markdown",
   "metadata": {},
   "source": [
    "let's try with k = 11"
   ]
  },
  {
   "cell_type": "code",
   "execution_count": 28,
   "metadata": {},
   "outputs": [],
   "source": [
    "#Create a KNN Classifier\n",
    "# kNN model requires you to specify n_neighbors\n",
    "classifierKNN = neighbors.KNeighborsClassifier(n_neighbors = 11)\n",
    "\n",
    "#Train the model using the training sets\n",
    "classifierKNN.fit(X_train, y_train)\n",
    "\n",
    "#Predict the response for test dataset\n",
    "y_pred_test_KNN = classifierKNN.predict(X_test)"
   ]
  },
  {
   "cell_type": "code",
   "execution_count": 30,
   "metadata": {},
   "outputs": [
    {
     "name": "stdout",
     "output_type": "stream",
     "text": [
      "ERRORS NUMBER:  11\n"
     ]
    },
    {
     "data": {
      "image/png": "[encoded data removed]",
      "text/plain": [
       "<Figure size 432x432 with 11 Axes>"
      ]
     },
     "metadata": {},
     "output_type": "display_data"
    }
   ],
   "source": [
    "#Affichons d'abord le nombre d'erreur\n",
    "nbrError = 0\n",
    "for i in range(540):\n",
    "    if y_pred_test_KNN[i] != y_test[i]:\n",
    "        nbrError = nbrError +1\n",
    "print(\"ERRORS NUMBER: \",nbrError)    \n",
    "        \n",
    "# Plot the prediction\n",
    "fig = plt.figure(figsize=(6, 6))  # figure size in inches\n",
    "fig.subplots_adjust(left=0, right=1, bottom=0, top=1, hspace=0.05, wspace=0.05)\n",
    "# plot the digits: each image is 8x8 pixels\n",
    "j = 0\n",
    "for i in range(540):\n",
    "    # label the image with the target value\n",
    "    if y_pred_test_KNN[i] != y_test[i]:\n",
    "        ax = fig.add_subplot(5, 5, j + 1, xticks=[], yticks=[])\n",
    "        ax.imshow(X_test[i].reshape( 8, 8), cmap=plt.cm.binary, interpolation='nearest')\n",
    "        ax.text(0, 7, str(y_pred_test_KNN[i]), color='red')\n",
    "        ax.text(0, 7, '                      '+str(y_test[i]), color='green')\n",
    "        j = j +1\n",
    "        "
   ]
  },
  {
   "cell_type": "markdown",
   "metadata": {},
   "source": [
    "what number of neighborhoods to choose?"
   ]
  },
  {
   "cell_type": "markdown",
   "metadata": {},
   "source": [
    "## 4.  Model Evaluation\n",
    "This is a multi-class classification. The default strategy is One Vs Rest (One Vs All)\n",
    "\n",
    "Reminder:\n",
    "\n",
    "Accuracy = Number of correct predictions / Total number of predictions\n",
    "\n",
    "Precision: On the positive predicted elements, the proportion of the really positive ones\n",
    "\n",
    "Recall: On the really positive items, the proportion of the well classified (classified positive)\n",
    "\n",
    "We compare these metrics on the training and test data\n"
   ]
  },
  {
   "cell_type": "markdown",
   "metadata": {},
   "source": [
    "Let's display a classification summary and the confusion matrix"
   ]
  },
  {
   "cell_type": "code",
   "execution_count": 33,
   "metadata": {},
   "outputs": [
    {
     "name": "stdout",
     "output_type": "stream",
     "text": [
      "              precision    recall  f1-score   support\n",
      "\n",
      "           0       1.00      1.00      1.00        58\n",
      "           1       0.95      1.00      0.97        52\n",
      "           2       1.00      0.98      0.99        58\n",
      "           3       0.98      1.00      0.99        59\n",
      "           4       1.00      0.98      0.99        43\n",
      "           5       0.97      0.98      0.98        64\n",
      "           6       1.00      0.98      0.99        47\n",
      "           7       0.97      0.98      0.97        59\n",
      "           8       0.98      0.94      0.96        50\n",
      "           9       0.96      0.94      0.95        50\n",
      "\n",
      "    accuracy                           0.98       540\n",
      "   macro avg       0.98      0.98      0.98       540\n",
      "weighted avg       0.98      0.98      0.98       540\n",
      "\n",
      "[[58  0  0  0  0  0  0  0  0  0]\n",
      " [ 0 52  0  0  0  0  0  0  0  0]\n",
      " [ 0  0 57  0  0  0  0  1  0  0]\n",
      " [ 0  0  0 59  0  0  0  0  0  0]\n",
      " [ 0  0  0  0 42  0  0  1  0  0]\n",
      " [ 0  0  0  0  0 63  0  0  0  1]\n",
      " [ 0  0  0  0  0  0 46  0  1  0]\n",
      " [ 0  0  0  0  0  0  0 58  0  1]\n",
      " [ 0  2  0  1  0  0  0  0 47  0]\n",
      " [ 0  1  0  0  0  2  0  0  0 47]]\n"
     ]
    }
   ],
   "source": [
    "print(metrics.classification_report(y_test, y_pred_test_KNN))\n",
    "\n",
    "print(metrics.confusion_matrix(y_test, y_pred_test_KNN))\n",
    "plt.show()"
   ]
  },
  {
   "cell_type": "code",
   "execution_count": 34,
   "metadata": {},
   "outputs": [
    {
     "name": "stdout",
     "output_type": "stream",
     "text": [
      "test Accuracy: 0.9796296296296296\n",
      "Test Precision: 0.9799294862985338\n",
      "Test Recall: 0.9796296296296296\n"
     ]
    }
   ],
   "source": [
    "# Model Accuracy: how often is the classifier correct?\n",
    "print(\"test Accuracy:\",metrics.accuracy_score(y_test, y_pred_test_KNN))\n",
    "# Model Precision: what percentage of positive tuples are labeled as such?\n",
    "print(\"Test Precision:\",metrics.precision_score(y_test, y_pred_test_KNN, average = \"weighted\"))\n",
    "# Model Recall: what percentage of positive tuples are labelled as such?\n",
    "print(\"Test Recall:\",metrics.recall_score(y_test, y_pred_test_KNN, average = \"weighted\"))"
   ]
  },
  {
   "cell_type": "code",
   "execution_count": null,
   "metadata": {},
   "outputs": [],
   "source": []
  },
  {
   "cell_type": "code",
   "execution_count": null,
   "metadata": {},
   "outputs": [],
   "source": []
  }
 ],
 "metadata": {
  "kernelspec": {
   "display_name": "Python 3",
   "language": "python",
   "name": "python3"
  },
  "language_info": {
   "codemirror_mode": {
    "name": "ipython",
    "version": 3
   },
   "file_extension": ".py",
   "mimetype": "text/x-python",
   "name": "python",
   "nbconvert_exporter": "python",
   "pygments_lexer": "ipython3",
   "version": "3.8.3"
  }
 },
 "nbformat": 4,
 "nbformat_minor": 2
}
